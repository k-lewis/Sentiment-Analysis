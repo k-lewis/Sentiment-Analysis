{
 "cells": [
  {
   "cell_type": "code",
   "execution_count": 1,
   "metadata": {
    "collapsed": true
   },
   "outputs": [],
   "source": [
    "import numpy as np\n",
    "import re"
   ]
  },
  {
   "cell_type": "code",
   "execution_count": 11,
   "metadata": {
    "collapsed": false
   },
   "outputs": [],
   "source": [
    "fpos = open(\"/Users/marcia/Documents/ec503/processed_acl/books/positive.review\", 'r')\n",
    "fneg = open(\"/Users/marcia/Documents/ec503/processed_acl/books/negative.review\", 'r')"
   ]
  },
  {
   "cell_type": "code",
   "execution_count": 12,
   "metadata": {
    "collapsed": false
   },
   "outputs": [],
   "source": [
    "docNo=1\n",
    "Doclist=[]\n",
    "wordlist=[]\n",
    "numlist=[]\n",
    "uniqueWordList=[]\n",
    "label=[]\n",
    "for line in fpos:\n",
    "    words = re.split(':| ',line)\n",
    "    wordlen = int(len(words))-2;\n",
    "    for i in np.arange(0,wordlen,2):\n",
    "        Doclist.append(docNo)\n",
    "        wordlist.append(words[i])\n",
    "        numlist.append(words[i+1])\n",
    "        if words[i] in uniqueWordList: continue\n",
    "        uniqueWordList.append(words[i])\n",
    "    label.append(1)\n",
    "    docNo=docNo+1\n",
    "for line in fneg:\n",
    "    words = re.split(':| ',line)\n",
    "    wordlen = int(len(words))-2;\n",
    "    for i in np.arange(0,wordlen,2):\n",
    "        Doclist.append(docNo)\n",
    "        wordlist.append(words[i])\n",
    "        numlist.append(words[i+1])\n",
    "        if words[i] in uniqueWordList: continue\n",
    "        uniqueWordList.append(words[i])\n",
    "    label.append(2)\n",
    "    docNo=docNo+1\n",
    "fpos.close()\n",
    "fneg.close()"
   ]
  },
  {
   "cell_type": "code",
   "execution_count": 13,
   "metadata": {
    "collapsed": true
   },
   "outputs": [],
   "source": [
    "flabel = open('book_Label.txt', 'w')\n",
    "for item in label:\n",
    "  flabel.write(\"%s\\n\" % item)\n",
    "flabel.close()"
   ]
  },
  {
   "cell_type": "code",
   "execution_count": 5,
   "metadata": {
    "collapsed": false
   },
   "outputs": [],
   "source": [
    "wordIDlist=[]\n",
    "for word in wordlist:\n",
    "    wordid = uniqueWordList.index(word)\n",
    "    wordIDlist.append(wordid)"
   ]
  },
  {
   "cell_type": "code",
   "execution_count": 6,
   "metadata": {
    "collapsed": false
   },
   "outputs": [],
   "source": [
    "fvocab = open('book_vocabList.txt', 'w')\n",
    "for item in uniqueWordList:\n",
    "  fvocab.write(\"%s\\n\" % item)\n",
    "fvocab.close()"
   ]
  },
  {
   "cell_type": "code",
   "execution_count": 7,
   "metadata": {
    "collapsed": true
   },
   "outputs": [],
   "source": [
    "DataSet= list(zip(Doclist, wordIDlist, numlist))"
   ]
  },
  {
   "cell_type": "code",
   "execution_count": 8,
   "metadata": {
    "collapsed": true
   },
   "outputs": [],
   "source": [
    "f = open('book_DataSet.txt', 'w')\n",
    "for item in DataSet:\n",
    "  f.write(\"%s %s %s\\n\" % item)\n",
    "f.close()"
   ]
  },
  {
   "cell_type": "code",
   "execution_count": 9,
   "metadata": {
    "collapsed": false
   },
   "outputs": [
    {
     "data": {
      "text/plain": [
       "195887"
      ]
     },
     "execution_count": 9,
     "metadata": {},
     "output_type": "execute_result"
    }
   ],
   "source": [
    "len(uniqueWordList)"
   ]
  },
  {
   "cell_type": "code",
   "execution_count": 10,
   "metadata": {
    "collapsed": false
   },
   "outputs": [
    {
     "data": {
      "text/plain": [
       "479173"
      ]
     },
     "execution_count": 10,
     "metadata": {},
     "output_type": "execute_result"
    }
   ],
   "source": [
    "len(DataSet)"
   ]
  },
  {
   "cell_type": "code",
   "execution_count": null,
   "metadata": {
    "collapsed": true
   },
   "outputs": [],
   "source": []
  }
 ],
 "metadata": {
  "kernelspec": {
   "display_name": "Python [Root]",
   "language": "python",
   "name": "Python [Root]"
  },
  "language_info": {
   "codemirror_mode": {
    "name": "ipython",
    "version": 3
   },
   "file_extension": ".py",
   "mimetype": "text/x-python",
   "name": "python",
   "nbconvert_exporter": "python",
   "pygments_lexer": "ipython3",
   "version": "3.5.1"
  }
 },
 "nbformat": 4,
 "nbformat_minor": 0
}
